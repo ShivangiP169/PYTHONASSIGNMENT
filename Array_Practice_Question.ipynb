{
  "nbformat": 4,
  "nbformat_minor": 0,
  "metadata": {
    "colab": {
      "provenance": [],
      "authorship_tag": "ABX9TyNewm/9xiW+JSMenhOHVKCB",
      "include_colab_link": true
    },
    "kernelspec": {
      "name": "python3",
      "display_name": "Python 3"
    },
    "language_info": {
      "name": "python"
    }
  },
  "cells": [
    {
      "cell_type": "markdown",
      "metadata": {
        "id": "view-in-github",
        "colab_type": "text"
      },
      "source": [
        "<a href=\"https://colab.research.google.com/github/ShivangiP169/PYTHONASSIGNMENT/blob/main/Array_Practice_Question.ipynb\" target=\"_parent\"><img src=\"https://colab.research.google.com/assets/colab-badge.svg\" alt=\"Open In Colab\"/></a>"
      ]
    },
    {
      "cell_type": "markdown",
      "source": [
        "EASY"
      ],
      "metadata": {
        "id": "RqbUmJaP1xMz"
      }
    },
    {
      "cell_type": "code",
      "source": [
        "1.# Write a program to find the smallest element among N inputted numbers.\n",
        "\n",
        "def find_smallest_element(arr):\n",
        "    smallest = arr[0]\n",
        "    for num in arr[1:]:\n",
        "        if num < smallest:\n",
        "            smallest = num\n",
        "    return smallest\n",
        "\n",
        "\n"
      ],
      "metadata": {
        "id": "WBocZL53dVX0"
      },
      "execution_count": 4,
      "outputs": []
    },
    {
      "cell_type": "code",
      "source": [
        "2.# Write a program to rearrange an array in reverse order without using a second array.\n",
        "\n",
        "def reverse_array_in_place(arr):\n",
        "    start = 0\n",
        "    end = len(arr) - 1\n",
        "    while start < end:\n",
        "        arr[start], arr[end] = arr[end], arr[start]\n",
        "        start += 1"
      ],
      "metadata": {
        "id": "sc73BxmTfUWh"
      },
      "execution_count": 5,
      "outputs": []
    },
    {
      "cell_type": "code",
      "source": [
        "3.# Write a program to calculate standard deviation of N numbers\n",
        "\n",
        "import math\n",
        "\n",
        "def calculate_standard_deviation(numbers):\n",
        "    if len(numbers) <= 1:\n",
        "        return 0.0"
      ],
      "metadata": {
        "id": "5vthMCD0fieF"
      },
      "execution_count": 6,
      "outputs": []
    },
    {
      "cell_type": "code",
      "source": [
        "4.# Write a program to count odd numbers in a set of integers\n",
        "\n",
        "def count_odd_numbers(numbers):\n",
        "    count = 0\n",
        "    for num in numbers:\n",
        "        if num % 2 != 0:\n",
        "            count += 1\n",
        "    return count"
      ],
      "metadata": {
        "id": "yK13Gd5DfuSW"
      },
      "execution_count": null,
      "outputs": []
    },
    {
      "cell_type": "code",
      "source": [
        "5.# Write a program to largest odd number in a set of integers\n",
        "\n",
        "def find_largest_odd_number(numbers):\n",
        "    largest_odd = None\n",
        "    for num in numbers:\n",
        "        if num % 2 != 0:\n",
        "            if largest_odd is None or num > largest_odd:\n",
        "                largest_odd = num"
      ],
      "metadata": {
        "id": "Y9VHMAqvf694"
      },
      "execution_count": null,
      "outputs": []
    },
    {
      "cell_type": "code",
      "source": [
        "6.# Write a program to count the total number of prime numbers in a set of integers.\n",
        "\n",
        "def count_primes(numbers):\n",
        "    count = 0\n",
        "    for num in numbers:\n",
        "        if is_prime(num):\n",
        "            count += 1\n",
        "    return count\n",
        "\n",
        "def is_prime(number):\n",
        "    if number <= 1:\n",
        "        return False"
      ],
      "metadata": {
        "id": "z-KHIVI8gCz-"
      },
      "execution_count": null,
      "outputs": []
    },
    {
      "cell_type": "code",
      "source": [
        "7.# Write a program to find the second highest element among N inputted numbers.\n",
        "\n",
        "def find_second_highest_element(arr):\n",
        "    if len(arr) < 2:\n",
        "        return None\n",
        "    highest = float('-inf')\n",
        "    second_highest = float('-inf')"
      ],
      "metadata": {
        "id": "_0-yQdzTgV7G"
      },
      "execution_count": null,
      "outputs": []
    },
    {
      "cell_type": "code",
      "source": [
        "8.# Write a program to find the largest difference in a set of numbers.\n",
        "\n",
        "def find_largest_difference(numbers):\n",
        "    if len(numbers) < 2:\n",
        "        return 0\n",
        "    smallest = float('inf')\n",
        "    largest = float('-inf')"
      ],
      "metadata": {
        "id": "gj6sPU7GgsXt"
      },
      "execution_count": null,
      "outputs": []
    },
    {
      "cell_type": "code",
      "source": [
        "9.# Write a program to find the binary equivalent of a decimal numbers.\n",
        "\n",
        "def decimal_to_binary(decimal):\n",
        "    if decimal == 0:\n",
        "        return '0'\n",
        "    binary = ''\n",
        "    while decimal > 0:\n",
        "        binary = str(decimal % 2) + binary\n",
        "        decimal //= 2\n",
        "    return binary\n"
      ],
      "metadata": {
        "id": "P0NOyDGChHQ8"
      },
      "execution_count": null,
      "outputs": []
    },
    {
      "cell_type": "code",
      "source": [
        "10.# .Write a program to delete an element from the k-th position of an array.\n",
        "\n",
        "def delete_element(arr, k):\n",
        "    if k < 0 or k >= len(arr):\n",
        "        print(\"Invalid position! Please enter a valid index.\")\n",
        "        return arr\n",
        "    else:\n",
        "        del arr[k]\n",
        "        return arr\n",
        "\n",
        "n = int(input(\"Enter the number of elements (N): \"))\n",
        "\n",
        "if n <= 0:\n",
        "    print(\"Please enter a valid number greater than 0.\")\n",
        "else:\n",
        "\n",
        "    arr = []\n",
        "    print(f\"Enter {n} numbers:\")\n",
        "    for i in range(n):\n",
        "        num = int(input())\n",
        "        arr.append(num)\n",
        "    k = int(input(\"Enter the position (index) to delete (0-based index): \"))\n",
        "\n",
        "    updated_arr = delete_element(arr, k)\n",
        "    print(\"Updated array after deletion:\", updated_arr)"
      ],
      "metadata": {
        "id": "bb9Ns0KLhwFw"
      },
      "execution_count": null,
      "outputs": []
    },
    {
      "cell_type": "code",
      "source": [
        "11.#  Write a program to insert an element at its proper position in a previously sorted array\n",
        "\n",
        "def insert_sorted(arr, key):\n",
        "    n = len(arr)\n",
        "    i = 0\n",
        "    while i < n and arr[i] < key:\n",
        "        i += 1\n",
        "    arr.insert(i, key)\n",
        "    return arr\n",
        "\n",
        "n = int(input(\"Enter the number of elements in the sorted array: \"))\n",
        "\n",
        "if n < 0:\n",
        "    print(\"Please enter a valid number.\")\n",
        "else:\n",
        "\n",
        "    arr = []\n",
        "    print(f\"Enter {n} sorted numbers:\")\n",
        "    for i in range(n):\n",
        "        num = int(input())\n",
        "        arr.append(num)\n",
        "    key = int(input(\"Enter the element to insert: \"))\n",
        "    updated_arr = insert_sorted(arr, key)\n",
        "    print(\"Updated sorted array:\", updated_arr)\n",
        "\n"
      ],
      "metadata": {
        "id": "4LpgX9sci-R0"
      },
      "execution_count": 8,
      "outputs": []
    },
    {
      "cell_type": "code",
      "source": [
        "12.# .Write a program to find the union of two sets of numbers\n",
        "\n",
        "set1 = {1, 2, 3, 4, 5}\n",
        "set2 = {4, 5, 6, 7, 8}\n",
        "union_set = set1.union(set2)\n",
        "print(union_set)"
      ],
      "metadata": {
        "colab": {
          "base_uri": "https://localhost:8080/"
        },
        "id": "x5U8nrj9joTZ",
        "outputId": "d5c2f062-8192-489f-d2d8-553d6a42ae9a"
      },
      "execution_count": 10,
      "outputs": [
        {
          "output_type": "stream",
          "name": "stdout",
          "text": [
            "{1, 2, 3, 4, 5, 6, 7, 8}\n"
          ]
        }
      ]
    },
    {
      "cell_type": "markdown",
      "source": [
        " INTERMIDIATE"
      ],
      "metadata": {
        "id": "9DljHKkhkOTK"
      }
    },
    {
      "cell_type": "code",
      "source": [
        "1. # Move Zeroes to the End\n",
        "# Problem: Write a function that moves all zeroes in an array to the end while maintaining the relative order of the non-zero elements.\n",
        "# Input: arr = [0, 1, 0, 3, 12]\n",
        "# Output: [1, 3, 12, 0, 0]\n",
        "\n",
        "def move_zeroes(arr):\n",
        "    non_zero_index = 0\n",
        "    for i in range(len(arr)):\n",
        "        if arr[i] != 0:\n",
        "            arr[non_zero_index], arr[i] = arr[i], arr[non_zero_index]\n",
        "            non_zero_index += 1\n",
        "\n",
        "arr = [0, 1, 0, 3, 12]\n",
        "move_zeroes(arr)\n",
        "print(\"Output:\", arr)\n"
      ],
      "metadata": {
        "id": "QWX_r6c4kNqY"
      },
      "execution_count": null,
      "outputs": []
    },
    {
      "cell_type": "code",
      "source": [
        "2. #  Array rotation\n",
        "# Problem : write a python function to rotate an array to the right kth position.\n",
        "# Input: arr = [1,2,3,4,5]\n",
        "# Output: [4,5,1,2,3]\n",
        "\n",
        "def rotate_array(arr, k):\n",
        "    n = len(arr)\n",
        "    k = k % n\n",
        "    arr[:] = arr[-k:] + arr[:-k]\n",
        "\n",
        "arr = [1, 2, 3, 4, 5]\n",
        "k = 2\n",
        "rotate_array(arr, k)\n",
        "print(\"Rotated array:\", arr)\n"
      ],
      "metadata": {
        "id": "wsAb8BCik-u4"
      },
      "execution_count": null,
      "outputs": []
    },
    {
      "cell_type": "code",
      "source": [
        "3. # Product of All Elements Except Itself\n",
        "# Problem: Given an array of integers, return a new array such that each element at index i is the product of all the numbers in the array except\n",
        "# the one at i.\n",
        "\n",
        "# Input: arr = [1, 2, 3, 4]\n",
        "# Output: [24, 12, 8, 6]\n",
        "\n",
        "def product_except_self(arr):\n",
        "    n = len(arr)\n",
        "    output = [1] * n\n",
        "    left_product = 1\n",
        "    for i in range(n):\n",
        "        output[i] = left_product\n",
        "        left_product *= arr[i]\n",
        "\n",
        "    right_product = 1\n",
        "    for i in range(n - 1, -1, -1):\n",
        "        output[i] *= right_product\n",
        "        right_product *= arr[i]\n",
        "\n",
        "    return output\n",
        "\n",
        "arr = [1, 2, 3, 4]\n",
        "result = product_except_self(arr)\n",
        "print(\"Output:\", result)\n",
        "\n"
      ],
      "metadata": {
        "id": "dn_6nVnwlPT-"
      },
      "execution_count": null,
      "outputs": []
    },
    {
      "cell_type": "code",
      "source": [
        "4.# Problem: Given an array of integers and a target value, return the indices of the two numbers such that they add up to the target.\n",
        "# Input: arr = [2, 7, 11, 15], target = 9\n",
        " # Output: [0, 1] (because arr[0] + arr[1] == 9)\n",
        "\n",
        "def two_sum(arr, target):\n",
        "    num_to_index = {}\n",
        "\n",
        "    for index, num in enumerate(arr):\n",
        "        complement = target - num\n",
        "        if complement in num_to_index:\n",
        "            return [num_to_index[complement], index]\n",
        "        num_to_index[num] = index\n",
        "\n",
        "    return []\n",
        "\n",
        "arr = [2, 7, 11, 15]\n",
        "target = 9\n",
        "result = two_sum(arr, target)\n",
        "\n",
        "print(\"Output:\", result)\n"
      ],
      "metadata": {
        "id": "d5zWRAoZmTHj"
      },
      "execution_count": null,
      "outputs": []
    },
    {
      "cell_type": "code",
      "source": [
        "5.#  Minimum Number of Jumps to Reach End\n",
        "# Problem: Given an array of integers where each element represents the maximum jump length from that position, determine the minimum number\n",
        " # of jumps required to reach the end of the array.\n",
        "# Input: arr = [6, 2, 4, 0, 5, 1, 1, 4, 2, 9]\n",
        "# Output: 2 (The minimum jumps to reach the end are 6 -> 5 -> 9)\n",
        "\n",
        "def min_jumps(arr):\n",
        "    n = len(arr)\n",
        "    if n <= 1:\n",
        "        return 0\n",
        "\n",
        "    jumps = 0\n",
        "    current_end = 0\n",
        "    farthest = 0\n",
        "\n",
        "    for i in range(n - 1):\n",
        "        farthest = max(farthest, i + arr[i])\n",
        "\n",
        "        if i == current_end:\n",
        "            jumps += 1\n",
        "            current_end = farthest\n",
        "            if current_end >= n - 1:\n",
        "                break\n",
        "\n",
        "    return jumps\n",
        "\n",
        "arr = [6, 2, 4, 0, 5, 1, 1, 4, 2, 9]\n",
        "result = min_jumps(arr)\n",
        "\n",
        "print(\"Minimum number of jumps to reach the end:\", result)\n"
      ],
      "metadata": {
        "id": "JHwHt9SrnDQy"
      },
      "execution_count": null,
      "outputs": []
    },
    {
      "cell_type": "code",
      "source": [
        "6.#  Sort Colors (Dutch National Flag Problem)\n",
        "# Problem: Given an array containing n objects, where each object is one of three colors represented by integers 0, 1, and 2, sort the array in-place\n",
        "# without using extra space.\n",
        "\n",
        "# Input: arr = [2, 0, 2, 1, 1, 0]\n",
        "# Output: [0, 0, 1, 1, 2, 2]\n",
        "\n",
        "def sort_colors(arr):\n",
        "    low = 0\n",
        "    mid = 0\n",
        "    high = len(arr) - 1\n",
        "\n",
        "    while mid <= high:\n",
        "        if arr[mid] == 0:\n",
        "            arr[low], arr[mid] = arr[mid], arr[low]\n",
        "            low += 1\n",
        "            mid += 1\n",
        "        elif arr[mid] == 1:\n",
        "            mid += 1\n",
        "        else:\n",
        "            arr[mid], arr[high] = arr[high], arr[mid]\n",
        "            high -= 1\n",
        "\n",
        "arr = [2, 0, 2, 1, 1, 0]\n",
        "\n",
        "sort_colors(arr)\n",
        "\n",
        "print(\"Sorted array:\", arr)\n"
      ],
      "metadata": {
        "id": "IPn-EA1kqI9J"
      },
      "execution_count": null,
      "outputs": []
    },
    {
      "cell_type": "code",
      "source": [
        "7. #Trapping Rain Water\n",
        "# Problem: Given an array representing the heights of bars, compute how much water it can trap after raining.\n",
        "\n",
        "# Input: arr = [0, 1, 0, 2, 1, 0, 1, 3, 2, 1, 2, 1]\n",
        "# Output: 6 (total water trapped)\n",
        "\n",
        "def trap_rain_water(arr):\n",
        "    if not arr:\n",
        "        return 0\n",
        "\n",
        "    n = len(arr)\n",
        "    left_max = [0] * n\n",
        "    right_max = [0] * n\n",
        "\n",
        "    left_max[0] = arr[0]\n",
        "    for i in range(1, n):\n",
        "        left_max[i] = max(left_max[i - 1], arr[i])\n",
        "\n",
        "    right_max[n - 1] = arr[n - 1]\n",
        "    for i in range(n - 2, -1, -1):\n",
        "        right_max[i] = max(right_max[i + 1], arr[i])\n",
        "\n",
        "    water_trapped = 0\n",
        "    for i in range(n):\n",
        "        water_trapped += min(left_max[i], right_max[i]) - arr[i]\n",
        "\n",
        "    return water_trapped\n",
        "\n",
        "arr = [0, 1, 0, 2, 1, 0, 1, 3, 2, 1, 2, 1]\n",
        "\n",
        "result = trap_rain_water(arr)\n",
        "\n",
        "print(\"Total water trapped:\", result)\n",
        "\n"
      ],
      "metadata": {
        "id": "a1aCFpDNrqDH"
      },
      "execution_count": null,
      "outputs": []
    },
    {
      "cell_type": "markdown",
      "source": [
        " DIFFICULT"
      ],
      "metadata": {
        "id": "MfHbbchRru1c"
      }
    },
    {
      "cell_type": "code",
      "source": [
        "1.# In an organisation monthly sales figures of employees are available. Write a program to find the total sales of each employee and total sales of each\n",
        "# month. Also find the total sales of the organization.\n",
        "\n",
        "def calculate_sales(sales_data):\n",
        "    total_sales_per_employee = [sum(sales) for sales in sales_data]\n",
        "    total_sales_per_month = [sum(sales_data[i][j] for i in range(len(sales_data))) for j in range(len(sales_data[0]))]\n",
        "\n",
        "    total_sales_organization = sum(total_sales_per_employee)\n",
        "\n",
        "    return total_sales_per_employee, total_sales_per_month, total_sales_organization\n",
        "\n",
        "sales_data = [\n",
        "    [200, 300, 250],\n",
        "    [150, 400, 300],\n",
        "    [500, 100, 200],\n",
        "]\n",
        "\n",
        "total_sales_employee, total_sales_month, total_sales_org = calculate_sales(sales_data)\n",
        "\n",
        "print(\"Total sales per employee:\", total_sales_employee)\n",
        "print(\"Total sales per month:\", total_sales_month)\n",
        "print(\"Total sales of the organization:\", total_sales_org)\n",
        "\n"
      ],
      "metadata": {
        "id": "3BEyUHKSsEhm"
      },
      "execution_count": null,
      "outputs": []
    },
    {
      "cell_type": "code",
      "source": [
        "2.# Write a program to find the determinant of a matrix.\n",
        "\n",
        "def get_minor(matrix, row, col):\n",
        "    \"\"\"Return the minor of the matrix after removing the specified row and column.\"\"\"\n",
        "    return [r[:col] + r[col+1:] for r in (matrix[:row] + matrix[row+1:])]\n",
        "\n",
        "def determinant(matrix):\n",
        "    \"\"\"Recursively calculate the determinant of a matrix.\"\"\"\n",
        "\n",
        "    if len(matrix) == 1:\n",
        "        return matrix[0][0]\n",
        "\n",
        "    if len(matrix) == 2:\n",
        "        return matrix[0][0] * matrix[1][1] - matrix[0][1] * matrix[1][0]\n",
        "    det = 0\n",
        "    for col in range(len(matrix)):\n",
        "\n",
        "        minor = get_minor(matrix, 0, col)\n",
        "        det += ((-1) ** col) * matrix[0][col] * determinant(minor)\n",
        "\n",
        "    return det\n",
        "matrix = [\n",
        "    [1, 2, 3],\n",
        "    [0, 1, 4],\n",
        "    [5, 6, 0]\n",
        "]\n",
        "\n",
        "result = determinant(matrix)\n",
        "\n",
        "print(\"Determinant of the matrix:\", result)\n",
        "\n"
      ],
      "metadata": {
        "id": "CRauZYRosQXd"
      },
      "execution_count": null,
      "outputs": []
    },
    {
      "cell_type": "code",
      "source": [
        "3.# Write a program to find the sum of diagonal elements of a square matrix.\n",
        "\n",
        "def sum_of_diagonals(matrix):\n",
        "    n = len(matrix)\n",
        "    primary_diagonal_sum = 0\n",
        "    secondary_diagonal_sum = 0\n",
        "\n",
        "    for i in range(n):\n",
        "        primary_diagonal_sum += matrix[i][i]\n",
        "        secondary_diagonal_sum += matrix[i][n - 1 - i]\n",
        "\n",
        "    return primary_diagonal_sum, secondary_diagonal_sum\n",
        "\n",
        "matrix = [\n",
        "    [1, 2, 3],\n",
        "    [4, 5, 6],\n",
        "    [7, 8, 9]\n",
        "]\n",
        "\n",
        "primary_sum, secondary_sum = sum_of_diagonals(matrix)\n",
        "\n",
        "print(\"Sum of primary diagonal elements:\", primary_sum)\n",
        "print(\"Sum of secondary diagonal elements:\", secondary_sum)\n",
        "\n"
      ],
      "metadata": {
        "id": "y5goVo6ysVx_"
      },
      "execution_count": null,
      "outputs": []
    },
    {
      "cell_type": "code",
      "source": [
        "4.# Maximum temperature of each day for 20 cities are recorded for the month of January. Write a program to find the following:\n",
        "\n",
        "a # The highest temperature of each city in January\n",
        "b # The day in which the highest temperature is recorded for the city\n",
        "c  # Average maximum temperature of each city.\n",
        "\n",
        "def analyze_temperatures(temperature_data):\n",
        "    highest_temperatures = []\n",
        "    days_of_highest = []\n",
        "    average_temperatures = []\n",
        "\n",
        "    for city_data in temperature_data:\n",
        "\n",
        "        highest = max(city_data)\n",
        "        highest_temperatures.append(highest)\n",
        "\n",
        "        day_of_highest = city_data.index(highest) + 1\n",
        "        days_of_highest.append(day_of_highest)\n",
        "\n",
        "        average = sum(city_data) / len(city_data)\n",
        "        average_temperatures.append(average)\n",
        "\n",
        "    return highest_temperatures, days_of_highest, average_temperatures\n",
        "\n",
        "temperature_data = [\n",
        "    [30, 31, 29, 32, 30, 30, 31, 29, 33, 34, 31, 30, 29, 35, 33, 32, 31, 30, 29, 28, 27, 30, 31, 32, 30, 29, 31, 30, 28, 29, 30],\n",
        "    [28, 29, 30, 31, 29, 30, 28, 27, 30, 31, 29, 32, 28, 29, 30, 31, 32, 30, 31, 30, 29, 28, 29, 30, 32, 31, 29, 30, 28, 27, 30],\n",
        "\n",
        "]\n",
        "\n",
        "import random\n",
        "for _ in range(18):\n",
        "    temperature_data.append([random.randint(25, 35) for _ in range(31)])\n",
        "\n",
        "\n",
        "highest_temps, days_of_highest, avg_temps = analyze_temperatures(temperature_data)\n",
        "\n",
        "for i in range(len(temperature_data)):\n",
        "    print(f\"City {i + 1}:\")\n",
        "    print(f\"  Highest Temperature: {highest_temps[i]}°C on Day: {days_of_highest[i]}\")\n",
        "    print(f\"  Average Maximum Temperature: {avg_temps[i]:.2f}°C\")\n",
        "\n"
      ],
      "metadata": {
        "id": "8gxV8JWcsc7r"
      },
      "execution_count": null,
      "outputs": []
    },
    {
      "cell_type": "code",
      "source": [
        "5 # Given an m x n matrix, if an element in the matrix is 0, set its entire row and column to 0. Do this in O(m * n) time complexity.\n",
        "\n",
        "Output:\n",
        "[ [1, 0, 1],\n",
        "[0, 0, 0],\n",
        "[1, 0, 1] ]\n",
        "Input:\n",
        "[ [1, 1, 1],\n",
        "[1, 0, 1],\n",
        "[1, 1, 1] ]\n",
        "\n",
        "def set_zeros(matrix):\n",
        "    if not matrix:\n",
        "        return\n",
        "\n",
        "    m = len(matrix)\n",
        "    n = len(matrix[0])\n",
        "\n",
        "    rows_to_zero = set()\n",
        "    cols_to_zero = set()\n",
        "\n",
        "    for i in range(m):\n",
        "        for j in range(n):\n",
        "            if matrix[i][j] == 0:\n",
        "                rows_to_zero.add(i)\n",
        "                cols_to_zero.add(j)\n",
        "\n",
        "    for row in rows_to_zero:\n",
        "        for j in range(n):\n",
        "            matrix[row][j] = 0\n",
        "\n",
        "    for col in cols_to_zero:\n",
        "        for i in range(m):\n",
        "            matrix[i][col] = 0\n",
        "\n",
        "\n",
        "input_matrix = [\n",
        "    [1, 1, 1],\n",
        "    [1, 0, 1],\n",
        "    [1, 1, 1]\n",
        "]\n",
        "\n",
        "set_zeros(input_matrix)\n",
        "\n",
        "print(\"Output:\")\n",
        "for row in input_matrix:\n",
        "    print(row)\n"
      ],
      "metadata": {
        "id": "zoODgE2NstD7"
      },
      "execution_count": null,
      "outputs": []
    }
  ]
}